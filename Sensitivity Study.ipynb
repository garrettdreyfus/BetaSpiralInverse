{
 "cells": [
  {
   "cell_type": "code",
   "execution_count": null,
   "id": "a2b8eddf",
   "metadata": {},
   "outputs": [],
   "source": [
    "import pickle\n",
    "import graph"
   ]
  }
 ],
 "metadata": {
  "kernelspec": {
   "display_name": "Python 3 (ipykernel)",
   "language": "python",
   "name": "python3"
  }
 },
 "nbformat": 4,
 "nbformat_minor": 5
}
